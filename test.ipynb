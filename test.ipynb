{
 "cells": [
  {
   "cell_type": "code",
   "execution_count": 1,
   "metadata": {},
   "outputs": [],
   "source": [
    "from langchain_community.chat_models import ChatPerplexity\n",
    "from langchain_core.prompts import ChatPromptTemplate\n",
    "import streamlit as st"
   ]
  },
  {
   "cell_type": "code",
   "execution_count": 2,
   "metadata": {},
   "outputs": [],
   "source": [
    "password = st.secrets['per_key']\n",
    "chat = ChatPerplexity(temperature=0.2, pplx_api_key= password , model=\"llama-3.1-sonar-large-128k-online\")"
   ]
  },
  {
   "cell_type": "code",
   "execution_count": null,
   "metadata": {},
   "outputs": [
    {
     "name": "stdout",
     "output_type": "stream",
     "text": [
      "a\n",
      "b\n",
      "c\n"
     ]
    }
   ],
   "source": []
  },
  {
   "cell_type": "code",
   "execution_count": null,
   "metadata": {},
   "outputs": [],
   "source": [
    "import subprocess\n",
    "import os\n",
    "\n",
    "def export_datamodel_to_json(tabular_editor_path, datamodel_path, output_json_path):\n",
    "    # Ensure paths are correct\n",
    "    if not os.path.exists(tabular_editor_path):\n",
    "        raise FileNotFoundError(f\"Tabular Editor not found at {tabular_editor_path}\")\n",
    "    if not os.path.exists(datamodel_path):\n",
    "        raise FileNotFoundError(f\"DataModel file not found at {datamodel_path}\")\n",
    "\n",
    "    # Command to run Tabular Editor with export options\n",
    "    command = [\n",
    "        tabular_editor_path,\n",
    "        datamodel_path,\n",
    "        \"-export\", output_json_path\n",
    "    ]\n",
    "\n",
    "    # Run the command\n",
    "    result = subprocess.run(command, capture_output=True, text=True)\n",
    "\n",
    "    # Check for errors\n",
    "    if result.returncode != 0:\n",
    "        print(\"Error exporting DataModel to JSON:\")\n",
    "        print(result.stderr)\n",
    "    else:\n",
    "        print(f\"DataModel successfully exported to {output_json_path}\")\n",
    "\n",
    "# Example usage\n",
    "tabular_editor_path = \"C:\\\\Path\\\\To\\\\TabularEditor.exe\"\n",
    "datamodel_path = \"C:\\\\Path\\\\To\\\\DataModel\"\n",
    "output_json_path = \"C:\\\\Path\\\\To\\\\Output\\\\model.json\"\n",
    "\n",
    "export_datamodel_to_json(tabular_editor_path, datamodel_path, output_json_path)"
   ]
  },
  {
   "cell_type": "code",
   "execution_count": null,
   "metadata": {},
   "outputs": [],
   "source": [
    "import openai\n",
    "import streamlit as st\n",
    "from pathlib import Path        \n",
    "\n",
    "\n",
    "def img():\n",
    "    openai.api_key = st.secrets['GPTAPIKEY']\n",
    "    prompt=st.text_input(\"Describe aquí la imagen que deseas generar\")\n",
    "\n",
    "    if st.button(\"Generar imagen\",type= \"primary\"):\n",
    "        response = openai.images.generate(\n",
    "            prompt = prompt,\n",
    "            model = \"dall-e-3\"\n",
    "        )\n",
    "        st.image(response.data[0].url)"
   ]
  }
 ],
 "metadata": {
  "kernelspec": {
   "display_name": "aih.env",
   "language": "python",
   "name": "python3"
  },
  "language_info": {
   "codemirror_mode": {
    "name": "ipython",
    "version": 3
   },
   "file_extension": ".py",
   "mimetype": "text/x-python",
   "name": "python",
   "nbconvert_exporter": "python",
   "pygments_lexer": "ipython3",
   "version": "3.11.11"
  }
 },
 "nbformat": 4,
 "nbformat_minor": 2
}
